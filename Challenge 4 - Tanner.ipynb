{
 "cells": [
  {
   "cell_type": "code",
   "execution_count": 58,
   "metadata": {},
   "outputs": [],
   "source": [
    "import pickle\n",
    "import numpy as np\n",
    "def get_pkl(filename):\n",
    "    with open(filename, 'rb') as f:\n",
    "        return np.array(pickle.load(f))"
   ]
  },
  {
   "cell_type": "markdown",
   "metadata": {},
   "source": [
    "### Load Pickle files\n",
    "- `features` = All features\n",
    "- `labels` = All labels\n",
    "- `x_train` = Training features\n",
    "- `y_train` = Training labels\n",
    "- `x_test` = Test features\n",
    "- `y_test` = Test labels"
   ]
  },
  {
   "cell_type": "code",
   "execution_count": 62,
   "metadata": {},
   "outputs": [
    {
     "name": "stdout",
     "output_type": "stream",
     "text": [
      "Feature shape: (2122, 128, 128, 3)\n",
      "Label shape: (2122,)\n"
     ]
    }
   ],
   "source": [
    "features = get_pkl('images_features.pkl')\n",
    "labels = get_pkl('images_labels.pkl')\n",
    "\n",
    "print('Feature shape:', features.shape)\n",
    "print('Label shape:', labels.shape)"
   ]
  },
  {
   "cell_type": "markdown",
   "metadata": {},
   "source": [
    "### Get Validation Set\n",
    "- From `x_train` and `y_train`, get 25% of the data as a validation set\n",
    "- Will **still** be training on `x_train` and `y_train`"
   ]
  },
  {
   "cell_type": "code",
   "execution_count": 55,
   "metadata": {},
   "outputs": [],
   "source": [
    "from sklearn.model_selection import train_test_split\n",
    "x_train, x_test, y_train, y_test = train_test_split(features, labels, test_size=0.25, random_state=42)\n",
    "new_x_train, x_validate, new_y_train, y_validate = train_test_split(x_train, y_train, test_size=0.25, random_state=42)"
   ]
  },
  {
   "cell_type": "markdown",
   "metadata": {},
   "source": [
    "### Goal\n",
    "- Team will run a code cell in a Jupyter notebook for the coach that shows the model accuracy is 90% or greater (using the test data set from Challenge 3)\n",
    "- Team will show logging that demonstrates validation accuracy that reaches 90% (using the validation dataset created in this challenge)"
   ]
  }
 ],
 "metadata": {
  "kernelspec": {
   "display_name": "Python 3",
   "language": "python",
   "name": "python3"
  },
  "language_info": {
   "codemirror_mode": {
    "name": "ipython",
    "version": 3
   },
   "file_extension": ".py",
   "mimetype": "text/x-python",
   "name": "python",
   "nbconvert_exporter": "python",
   "pygments_lexer": "ipython3",
   "version": "3.5.4"
  }
 },
 "nbformat": 4,
 "nbformat_minor": 2
}
