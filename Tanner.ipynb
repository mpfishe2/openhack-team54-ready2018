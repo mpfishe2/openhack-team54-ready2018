{
 "cells": [
  {
   "cell_type": "code",
   "execution_count": 7,
   "metadata": {
    "nbpresent": {
     "id": "4cf16771-2f38-4092-b74b-1c45424192b4"
    }
   },
   "outputs": [
    {
     "name": "stdout",
     "output_type": "stream",
     "text": [
      "  % Total    % Received % Xferd  Average Speed   Time    Time     Time  Current\n",
      "                                 Dload  Upload   Total   Spent    Left  Speed\n",
      "100 33.4M  100 33.4M    0     0  47.8M      0 --:--:-- --:--:-- --:--:-- 47.7M\n"
     ]
    }
   ],
   "source": [
    "first_time = True\n",
    "\n",
    "if first_time:\n",
    "    ! curl -O https://challenge.blob.core.windows.net/challengefiles/gear_images.zip\n",
    "    import zipfile\n",
    "    zip_ref = zipfile.ZipFile('gear_images.zip', 'r')\n",
    "    zip_ref.extractall('gear_images')\n",
    "    zip_ref.close()"
   ]
  },
  {
   "cell_type": "code",
   "execution_count": 3,
   "metadata": {
    "nbpresent": {
     "id": "52c1c040-8172-4429-8411-edb2523ec4a6"
    }
   },
   "outputs": [],
   "source": []
  }
 ],
 "metadata": {
  "kernelspec": {
   "display_name": "Python 3",
   "language": "python",
   "name": "python3"
  },
  "language_info": {
   "codemirror_mode": {
    "name": "ipython",
    "version": 3
   },
   "file_extension": ".py",
   "mimetype": "text/x-python",
   "name": "python",
   "nbconvert_exporter": "python",
   "pygments_lexer": "ipython3",
   "version": "3.5.4"
  }
 },
 "nbformat": 4,
 "nbformat_minor": 2
}
