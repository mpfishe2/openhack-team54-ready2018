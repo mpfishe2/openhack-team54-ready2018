{
 "cells": [
  {
   "cell_type": "code",
   "execution_count": null,
   "metadata": {
    "scrolled": true
   },
   "outputs": [
    {
     "name": "stdout",
     "output_type": "stream",
     "text": [
      "  % Total    % Received % Xferd  Average Speed   Time    Time     Time  Current\n",
      "                                 Dload  Upload   Total   Spent    Left  Speed\n",
      "  0     0    0     0    0     0      0      0 --:--:-- --:--:-- --:--:--     0"
     ]
    }
   ],
   "source": [
    "# Get the data\n",
    "first_time = True\n",
    "if first_time:\n",
    "    dirs_to_remove = ['padded_images/', 'normalized_images/', 'gear_images/']\n",
    "    for d in dirs_to_remove:\n",
    "        try:\n",
    "            shutil.rmtree(d)\n",
    "        except:\n",
    "            pass\n",
    "    ! curl -O https://challenge.blob.core.windows.net/challengefiles/gear_images.zip\n",
    "    import zipfile\n",
    "    import shutil\n",
    "    zip_ref = zipfile.ZipFile('gear_images.zip', 'r')\n",
    "    zip_ref.extractall('gearimages')\n",
    "    zip_ref.close()\n",
    "    shutil.move('gearimages/gear_images', 'gear_images')\n",
    "    shutil.rmtree('gearimages')"
   ]
  },
  {
   "cell_type": "markdown",
   "metadata": {},
   "source": [
    "## Challenge 2"
   ]
  },
  {
   "cell_type": "code",
   "execution_count": null,
   "metadata": {},
   "outputs": [],
   "source": [
    "import os\n",
    "from os import listdir\n",
    "from os.path import isfile, join\n",
    "import cv2\n",
    "import numpy as np\n",
    "import os\n",
    "from PIL import Image, ImageOps\n",
    "# Import the matplotlib libraries\n",
    "import matplotlib.pyplot as plt\n",
    "from matplotlib.pyplot import imshow\n",
    "import matplotlib.image as im\n",
    "import numpy as np\n",
    "from PIL import Image"
   ]
  },
  {
   "cell_type": "code",
   "execution_count": null,
   "metadata": {},
   "outputs": [],
   "source": [
    "images_path = 'gear_images/'\n",
    "padded_images_dir = 'padded_images/'\n",
    "normalized_images_dir = 'normalized_images/'"
   ]
  },
  {
   "cell_type": "code",
   "execution_count": null,
   "metadata": {},
   "outputs": [],
   "source": [
    "def pad_and_resize(im_pth, desired_size):\n",
    "    im = cv2.imread(im_pth)\n",
    "    old_size = im.shape[:2] # old_size is in (height, width) format\n",
    "    print(old_size)\n",
    "\n",
    "    ratio = float(desired_size)/max(old_size)\n",
    "    new_size = tuple([int(x*ratio) for x in old_size])\n",
    "\n",
    "    # new_size should be in (width, height) format\n",
    "\n",
    "    im = cv2.resize(im, (new_size[1], new_size[0]))\n",
    "\n",
    "    delta_w = desired_size - new_size[1]\n",
    "    delta_h = desired_size - new_size[0]\n",
    "    top, bottom = delta_h//2, delta_h-(delta_h//2)\n",
    "    left, right = delta_w//2, delta_w-(delta_w//2)\n",
    "\n",
    "    color = [255, 255, 255]\n",
    "    new_im = cv2.copyMakeBorder(im, top, bottom, left, right, cv2.BORDER_CONSTANT,\n",
    "        value=color)\n",
    "    print(im_pth)\n",
    "    cv2.imwrite(im_pth, new_im)\n",
    "    return new_im\n",
    "\n",
    "def linear_norm(arr):\n",
    "    \"\"\"\n",
    "    Linear normalization\n",
    "    http://en.wikipedia.org/wiki/Normalization_%28image_processing%29\n",
    "    \"\"\"\n",
    "    arr = arr.astype('float')\n",
    "    # Do not touch the alpha channel\n",
    "    for i in range(3):\n",
    "        minval = arr[...,i].min()\n",
    "        maxval = arr[...,i].max()\n",
    "        if minval != maxval:\n",
    "            arr[...,i] -= minval\n",
    "            arr[...,i] *= (255.0/(maxval-minval))\n",
    "    return arr\n",
    "\n",
    "def normalize(filename):\n",
    "    print(filename)\n",
    "    subdir = filename.split(\"/\")[-2]\n",
    "    name = filename.split(\"/\")[-1]\n",
    "    img = Image.open(filename).convert('RGB')\n",
    "    arr = np.array(img)\n",
    "    new_img = Image.fromarray(linear_norm(arr).astype('uint8'),'RGB')\n",
    "    if not os.path.exists(normalized_images_dir + subdir):\n",
    "        os.makedirs(normalized_images_dir + subdir)\n",
    "    new_img.save(normalized_images_dir + subdir + '/' + name)"
   ]
  },
  {
   "cell_type": "code",
   "execution_count": null,
   "metadata": {
    "scrolled": true
   },
   "outputs": [],
   "source": [
    "subdirectories = [x[0] for x in os.walk(images_path) \\\n",
    "               if '.ipynb_checkpoints' not in x[0] and x[0] != 'gear_images/']\n",
    "\n",
    "\n",
    "for sub in subdirectories:\n",
    "    files = [sub + '/' + f for f in listdir(sub) if isfile(join(sub, f))]\n",
    "    for f in files:\n",
    "        pad_and_resize(f, 128)\n",
    "        normalize(f)"
   ]
  },
  {
   "cell_type": "code",
   "execution_count": null,
   "metadata": {},
   "outputs": [],
   "source": [
    "img_real = Image.open(filepath+'/hardshell_jackets/10116634x1038116_zm.jpeg')\n",
    "img_real2 = Image.open(\"normalized_imgs\"+'/hardshell_jackets/10116634x1038116_zm.jpeg')"
   ]
  },
  {
   "cell_type": "code",
   "execution_count": null,
   "metadata": {},
   "outputs": [],
   "source": [
    "f, axarr = plt.subplots(1,2)\n",
    "axarr[0].imshow(img_real)\n",
    "axarr[1].imshow(img_real2)"
   ]
  },
  {
   "cell_type": "code",
   "execution_count": null,
   "metadata": {},
   "outputs": [],
   "source": [
    "my_arr = np.array(img_real2)\n",
    "final = []\n",
    "for arr in my_arr:\n",
    "    for piece in arr:\n",
    "        for item in piece:\n",
    "            final.append(item)\n",
    "plt.hist(final)"
   ]
  },
  {
   "cell_type": "markdown",
   "metadata": {},
   "source": [
    "## Challenge 3"
   ]
  },
  {
   "cell_type": "code",
   "execution_count": null,
   "metadata": {},
   "outputs": [],
   "source": []
  }
 ],
 "metadata": {
  "kernelspec": {
   "display_name": "Python 3",
   "language": "python",
   "name": "python3"
  },
  "language_info": {
   "codemirror_mode": {
    "name": "ipython",
    "version": 3
   },
   "file_extension": ".py",
   "mimetype": "text/x-python",
   "name": "python",
   "nbconvert_exporter": "python",
   "pygments_lexer": "ipython3",
   "version": "3.5.4"
  }
 },
 "nbformat": 4,
 "nbformat_minor": 2
}
